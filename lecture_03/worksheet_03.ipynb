{
 "cells": [
  {
   "attachments": {},
   "cell_type": "markdown",
   "metadata": {},
   "source": [
    "# Worksheet 03\n",
    "\n",
    "Name: Woo Hyeon Her  \n",
    "UID: U88838753 \n",
    "\n",
    "### Topics\n",
    "\n",
    "- Intro to DS\n",
    "\n",
    "### Linear Algebra Review\n",
    "\n",
    "If you need a linear algebra review, please read through the [following pdf](https://github.com/gallettilance/CS506-Spring2023/raw/main/worksheets/lecture_03_linear_algebra_review.pdf) before next class\n",
    "\n",
    "### Intro to Data Science\n",
    "\n",
    "a) what property must a hypothesis have?"
   ]
  },
  {
   "cell_type": "markdown",
   "metadata": {},
   "source": [
    "A good hypothesis have testability. This means that the hypothesis can be tested to prove or disprove the claimed idea."
   ]
  },
  {
   "cell_type": "markdown",
   "metadata": {},
   "source": [
    "b) what examples would you have wanted to try?"
   ]
  },
  {
   "cell_type": "markdown",
   "metadata": {},
   "source": [
    "I would have asked with bigger numbers such as 45, 47, 49. I also would have asked numbers such as 2, 3, 4."
   ]
  },
  {
   "cell_type": "markdown",
   "metadata": {},
   "source": [
    "c) Poll 1"
   ]
  },
  {
   "cell_type": "markdown",
   "metadata": {},
   "source": [
    "C got picked the most with (1, 2, 3)"
   ]
  },
  {
   "cell_type": "markdown",
   "metadata": {},
   "source": [
    "d) Given the hypothesis (x, 2x, 3x), for each of the following, determine whether they are positive or negative examples:\n",
    "\n",
    "- (2, 4, 6)\n",
    "- (6, 8 , 10)\n",
    "- (1, 3, 5)"
   ]
  },
  {
   "cell_type": "markdown",
   "metadata": {},
   "source": [
    "Positive <br>\n",
    "Negative <br>\n",
    "Negative <br>"
   ]
  },
  {
   "cell_type": "markdown",
   "metadata": {},
   "source": [
    "e) Poll 2"
   ]
  },
  {
   "cell_type": "markdown",
   "metadata": {},
   "source": [
    "C got picked the most with (1, 2, 3) again, probably now that we know it is a negative example. Previously we got a positive example, so it is valuable to get a negative example evenly."
   ]
  },
  {
   "attachments": {},
   "cell_type": "markdown",
   "metadata": {},
   "source": [
    "f) Describe steps of a Data Science Workflow"
   ]
  },
  {
   "cell_type": "markdown",
   "metadata": {},
   "source": [
    "The workflow goes from top to bottom. <br>\n",
    "<br>\n",
    "<b>Process Data</b>: Data is usually very messy. Entire job is dedicated to data engineering. <br>\n",
    "<b>Explore Data</b>: This is really the key step. We have to understand the data we are looking at. For example, how \"a\" varies as a function of \"b\". You have to become the expert of the data. Ask and answer relevant questions. <br> \n",
    "<b>Extract Features</b>: Find features and describe them well. <br>\n",
    "<b>Create Model</b>: Feed the explored features into the model. <br>\n",
    "<br>\n",
    "Each step can go back to the previous step if it is insufficient. The first three steps determine almost 99% of the project. Creating model is only about 0.1% or 0.2%. "
   ]
  },
  {
   "attachments": {},
   "cell_type": "markdown",
   "metadata": {},
   "source": [
    "g) Give a real world example for each of the following data types:\n",
    "\n",
    "- record: m-dimenstional points / vectors. <br>\n",
    "Example: (name, age, balance) -> (\"JJohn\", 20, 100) <br>\n",
    "- graph: nodes connected by edges. <br>\n",
    "Example: Adjacency matrix, adjaceny list <br>\n",
    "- image <br>\n",
    "Example: Image can be broken down into pixel with red, green, and blue, creating 3 dimensional matrix.\n",
    "- text <br>\n",
    "Example: List of words, or corpus of documents can be broken down into matrix. Things like what topics, frequencies, and such can be discussed."
   ]
  },
  {
   "attachments": {},
   "cell_type": "markdown",
   "metadata": {},
   "source": [
    "h) Give a real world example of unsupervised learning"
   ]
  },
  {
   "cell_type": "markdown",
   "metadata": {},
   "source": [
    "Clustering is an exmaple of unsupervised learning with the goal of finding interesting structure in the data. We can also look at it from linear algebraic perspective, doing things such as compression, filling gaps in data, getting rid of noise, and so on."
   ]
  },
  {
   "attachments": {},
   "cell_type": "markdown",
   "metadata": {},
   "source": [
    "i) Give a real world example of supervised learning"
   ]
  },
  {
   "cell_type": "markdown",
   "metadata": {},
   "source": [
    "Regression ia an exmaple of supervised learning. Identifying things like causal relationship and correlation is the job. Classification is another example."
   ]
  }
 ],
 "metadata": {
  "kernelspec": {
   "display_name": "Python 3",
   "language": "python",
   "name": "python3"
  },
  "language_info": {
   "codemirror_mode": {
    "name": "ipython",
    "version": 3
   },
   "file_extension": ".py",
   "mimetype": "text/x-python",
   "name": "python",
   "nbconvert_exporter": "python",
   "pygments_lexer": "ipython3",
   "version": "3.11.1"
  },
  "orig_nbformat": 4,
  "vscode": {
   "interpreter": {
    "hash": "e7370f93d1d0cde622a1f8e1c04877d8463912d04d973331ad4851f04de6915a"
   }
  }
 },
 "nbformat": 4,
 "nbformat_minor": 2
}
